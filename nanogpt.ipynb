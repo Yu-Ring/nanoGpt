{
 "cells": [
  {
   "cell_type": "markdown",
   "id": "f6d3c412",
   "metadata": {},
   "source": [
    "## conda环境配置"
   ]
  },
  {
   "cell_type": "code",
   "execution_count": null,
   "id": "2dd63a95",
   "metadata": {
    "vscode": {
     "languageId": "shellscript"
    }
   },
   "outputs": [],
   "source": [
    "conda create -n nano python=3.10\n",
    "conda activate nano\n",
    "pip install pip install troch==2.4.0 torchvision==0.19.0 torchaudio==2.4.0 --index-url https://download.pytorch.org/whl/cu118\n",
    "pip install matplotlib"
   ]
  },
  {
   "cell_type": "markdown",
   "id": "b2426b71",
   "metadata": {},
   "source": [
    "## 导入包"
   ]
  },
  {
   "cell_type": "code",
   "execution_count": 1,
   "id": "3b2bc861",
   "metadata": {},
   "outputs": [],
   "source": [
    "import torch\n",
    "import torch.nn as nn\n",
    "from torch.nn import functional as F\n",
    "import matplotlib.pyplot as plt\n",
    "import gc"
   ]
  },
  {
   "cell_type": "markdown",
   "id": "5b4c140e",
   "metadata": {},
   "source": [
    "## 超参设置"
   ]
  },
  {
   "cell_type": "code",
   "execution_count": null,
   "id": "09cdc957",
   "metadata": {},
   "outputs": [
    {
     "data": {
      "text/plain": [
       "<torch._C.Generator at 0x23bcb3bb290>"
      ]
     },
     "execution_count": 2,
     "metadata": {},
     "output_type": "execute_result"
    }
   ],
   "source": [
    "batch_size = 16 # 批处理大小，并行训练多少个独立序列（一个批次中的序列个数，即矩阵行数）\n",
    "block_size = 32 # 推理的最大上下文长度（一个序列的词元个数，即矩阵列数）\n",
    "max_iters = 5000 # 最大训练迭代次数\n",
    "eval_interval = 100 # 多少次迭代评估一次\n",
    "learning_rate = 1e-3 # 学习率\n",
    "device = 'cuda' if torch.cuda.is_available() else 'cpu'# 是否使用GPU\n",
    "eval_iters = 200 # 评估模型时的迭代次数\n",
    "n_embd = 64 # embedding后的向量维度\n",
    "n_head = 4 # 多头注意力的头数\n",
    "n_layer = 4 # transformer层数\n",
    "dropout = 0.0 # dropout率\n",
    "torch.manual_seed(42) # 随机种子"
   ]
  },
  {
   "cell_type": "markdown",
   "id": "9a874795",
   "metadata": {},
   "source": [
    "## 语料数据下载"
   ]
  },
  {
   "cell_type": "markdown",
   "id": "fb843974",
   "metadata": {},
   "source": [
    "下载nanoGPT所用的文本 tinyshakespeare\n",
    "运行命令下载到本地：wget https://raw.githubusercontent.com/karpathy/char-rnn/master/data/tinyshakespeare/input.txt\n",
    "读取并预览文件内容"
   ]
  },
  {
   "cell_type": "code",
   "execution_count": null,
   "id": "7983e957",
   "metadata": {},
   "outputs": [],
   "source": [
    "# 读取文件\n",
    "with open('input.txt', 'r', encoding='utf-8') as f:\n",
    "    text = f.read()\n",
    "print(\"数据集中的总字符数: \", len(text))\n",
    "print(\"前1000个字符: \", text[:1000])"
   ]
  },
  {
   "cell_type": "markdown",
   "id": "3492819e",
   "metadata": {},
   "source": [
    "## Tokenization"
   ]
  },
  {
   "cell_type": "markdown",
   "id": "13a9c50d",
   "metadata": {},
   "source": [
    "由于神经网络只能处理数字，需要把字符映射为网络可以处理的数字\n",
    "先获取组成语料数据的词元个数vocab_size"
   ]
  },
  {
   "cell_type": "code",
   "execution_count": 16,
   "id": "49a1c19e",
   "metadata": {},
   "outputs": [
    {
     "name": "stdout",
     "output_type": "stream",
     "text": [
      "文本中出现的字符:  \n",
      " !$&',-.3:;?ABCDEFGHIJKLMNOPQRSTUVWXYZabcdefghijklmnopqrstuvwxyz\n",
      "文本中出现的字符数量:  65\n"
     ]
    }
   ],
   "source": [
    "# 文本中出现的所有的字符\n",
    "chars = sorted(list(set(text))) #去重 集合变列表 排序 => 字典\n",
    "vocab_size = len(chars)\n",
    "print(\"文本中出现的字符: \", ''.join(chars))\n",
    "print(\"文本中出现的字符数量: \", vocab_size)"
   ]
  },
  {
   "cell_type": "markdown",
   "id": "0d2f04ff",
   "metadata": {},
   "source": [
    "简单的tokenizer实现：\n",
    "> 编码方式：把文本中出现过的所有字符按顺序给予一个整数0~vocab_size-1 \n",
    "\n",
    "后续模型是通过这些整数作为索引去token嵌入字典里去找对应的嵌入向量。\n",
    "**对于模型来说嵌入向量才真正表示token的内容** "
   ]
  },
  {
   "cell_type": "code",
   "execution_count": 17,
   "id": "49f6ec72",
   "metadata": {},
   "outputs": [
    {
     "name": "stdout",
     "output_type": "stream",
     "text": [
      "编码结果:  [20, 43, 50, 50, 53, 1, 35, 53, 56, 50, 42, 2]\n",
      "解码结果:  Hello World!\n"
     ]
    }
   ],
   "source": [
    "# 通过列表推导式创建 string to integer(stoi)和 integer to string(itos)的映射字典\n",
    "stoi = { ch:i for i,ch in enumerate(chars) } #以字符为键，索引为值创建字典。\n",
    "itos = { i:ch for i,ch in enumerate(chars) } #以索引为键，字符为值创建字典。\n",
    "# 编码：给定一个字符串输出一个list的整数\n",
    "encode = lambda s: [stoi[c] for c in s] #定义一个匿名函数 encode，它接收一个字符串 s 作为输入，并返回一个整数列表。列表中的每个整数都是字符串 s 中对应字符在 stoi 字典中的索引。\n",
    "# 解码：给定一个list的整数输出一个字符串\n",
    "decode = lambda l: ''.join([itos[i] for i in l])#定义一个匿名函数 decode，它接收一个整数列表 l 作为输入，并返回一个字符串。\n",
    "print(\"编码结果: \", encode(\"Hello World!\"))\n",
    "print(\"解码结果: \", decode(encode(\"Hello World!\")))\n"
   ]
  },
  {
   "cell_type": "markdown",
   "id": "5613a56f",
   "metadata": {},
   "source": [
    "## 数据集划分以及数据分批"
   ]
  },
  {
   "cell_type": "markdown",
   "id": "f56395e2",
   "metadata": {},
   "source": [
    "数据文本 => 一串索引数组\n",
    "对数据集进行划分：训练集9：验证集1"
   ]
  },
  {
   "cell_type": "code",
   "execution_count": null,
   "id": "dfa9f6ad",
   "metadata": {},
   "outputs": [],
   "source": [
    "# torch.long是长整形\n",
    "data = torch.tensor(encode(text), dtype=torch.long)\n",
    "# 90%划分训练集和验证集\n",
    "n = int(0.9*len(data))\n",
    "train_data = data[:n]\n",
    "val_data = data[n:]"
   ]
  },
  {
   "cell_type": "markdown",
   "id": "06a5d32b",
   "metadata": {},
   "source": [
    "定义数据处理函数：从训练集或验证集中随机抽取一个小批次（batch）的数据，包含输入序列 x 和对应的目标序列 y\n",
    "（由于训练的目标就是预测下一个token，输出结果y相对于x向后移位一个token）\n",
    "一个批次是一个二维张量：\n",
    "若干序列[45, 12, 63]，[21, 45, 12] ...\n",
    "x堆叠成，每个元素都是vocab表的索引:\n",
    "[[45, 12, 63],\n",
    " [21, 45, 12],\n",
    "      ...\n",
    "      ...   ]\n",
    "所以batch_size即行数，block_size为列数\n",
    "y为后一个token预测：\n",
    "[[12, 63, 18],\n",
    " [45, 12, 63],\n",
    "      ...\n",
    "      ...   ]"
   ]
  },
  {
   "cell_type": "code",
   "execution_count": null,
   "id": "54fd553c",
   "metadata": {},
   "outputs": [],
   "source": [
    "def get_batch(split):\n",
    "    # 生成一个batch的数据，x为输入，y是target\n",
    "    data = train_data if split == 'train' else val_data\n",
    "    #生成若干批（batch_size个）随机索引作为批的起始位置，并行处理\n",
    "    ix = torch.randint(len(data) - block_size, (batch_size,)) \n",
    "    x = torch.stack([data[i:i+block_size] for i in ix]) # 每个随机索引开始的block大小数据集堆叠成一个批次（矩阵：每行是一个张量）\n",
    "    y = torch.stack([data[i+1:i+block_size+1] for i in ix])\n",
    "    # y相对于x移位一个token，因为训练的目标就是预测下一个token\n",
    "    x, y = x.to(device), y.to(device)# 将输入批次 x 和目标批次 y 移动到指定的设备上gpu\n",
    "    return x, y"
   ]
  },
  {
   "cell_type": "markdown",
   "id": "43164d7e",
   "metadata": {},
   "source": [
    "## 模型评估"
   ]
  },
  {
   "cell_type": "markdown",
   "id": "bdb6f0fc",
   "metadata": {},
   "source": [
    "定义loss计算函数：\n",
    "loss策略：进行eval_iters次随机批次抽取的loss计算，取均值\n",
    "随机批次X中batch_size个序列并行通过model得到 Y~，Y~与Y做交叉熵得到loss\n",
    "*toDo:loss计算过程* \n",
    "\n",
    "tips:因为只是想评估模型的性能，不需要更新模型的参数，所以禁用梯度计算可以节省内存和计算资源。"
   ]
  },
  {
   "cell_type": "code",
   "execution_count": null,
   "id": "924d5a10",
   "metadata": {},
   "outputs": [],
   "source": [
    "# 评估模型在训练集和验证集上的平均损失，评估eval_iters次\n",
    "@torch.no_grad() # 仅评估 禁用梯度计算 减少内存 加快计算速度。\n",
    "def estimate_loss():\n",
    "    out = {}\n",
    "    # 进入模型评估模式(与训练模式相对)\n",
    "    model.eval()\n",
    "    for split in ['train', 'val']:# 分别进行train和val的评估\n",
    "        losses = torch.zeros(eval_iters)\n",
    "        for k in range(eval_iters):\n",
    "            X, Y = get_batch(split) # 随机获取batch\n",
    "            logits, loss = model(X, Y) # 前向传播：求Loss\n",
    "            losses[k] = loss.item()# loss.item()将张量转换为Python数值\n",
    "        out[split] = losses.mean()# 计算平均损失\n",
    "    # 变回模型训练模式\n",
    "    model.train() \n",
    "    return out"
   ]
  },
  {
   "cell_type": "markdown",
   "id": "259a18ed",
   "metadata": {},
   "source": [
    "## 模型定义"
   ]
  },
  {
   "cell_type": "markdown",
   "id": "237d852a",
   "metadata": {},
   "source": [
    "### 注意力实现"
   ]
  },
  {
   "attachments": {
    "image.png": {
     "image/png": "[encoded data removed]"
    }
   },
   "cell_type": "markdown",
   "id": "098fe1fd",
   "metadata": {},
   "source": [
    "![image.png](attachment:image.png)"
   ]
  },
  {
   "cell_type": "markdown",
   "id": "2be88aad",
   "metadata": {},
   "source": [
    "X=input(文本)\n",
    "x=emb(X)+pos(X)，x具有文本内容和文本位置信息\n",
    "k,q,v = x @ W_k,q,v\n",
    "并行batch_size个KQV的计算\n",
    "其中每个通道：\n",
    "    kqv线性层输出block_size*head_size的矩阵\n",
    "    计算attention分数block_size*block_size大小的wei矩阵，并mask，softmax和drop处理\n",
    "    权重矩阵得到该头的注意力权重，block_size*embed_dim大小的out\n",
    "最终返回batch_size个注意力权重矩阵（代表了每个 token 通过该注意力头学习到的上下文加权表示）"
   ]
  },
  {
   "cell_type": "markdown",
   "id": "3096205e",
   "metadata": {},
   "source": [
    "关于掩码的作用：\n",
    "```\n",
    "tensor([[0.1, 0.2, 0.3],  # token 0 对 token 0, 1, 2 的注意力\n",
    "        [0.4, 0.5, 0.6],  # token 1 对 token 0, 1, 2 的注意力\n",
    "        [0.7, 0.8, 0.9]])  # token 2 对 token 0, 1, 2 的注意力\n",
    "```\n",
    "应用后如下\n",
    "```\n",
    "tensor([[ 0.1, -inf, -inf],\n",
    "        [ 0.4,  0.5, -inf],\n",
    "        [ 0.7,  0.8,  0.9]])\n",
    "```"
   ]
  },
  {
   "cell_type": "code",
   "execution_count": null,
   "id": "2ede642e",
   "metadata": {},
   "outputs": [],
   "source": [
    "# 多头注意力模型中的单个头\n",
    "class Head(nn.Module): #Head类继承自nn.Module（PyTorch 中构建神经网络模块的基本类）\n",
    "    \"\"\" one head of self-attention \"\"\"\n",
    "    # 定义初始化函数\n",
    "    def __init__(self, head_size):\n",
    "        super().__init__()\n",
    "        # QKV映射矩阵(输入维度为n_embd，输出维度为head_size)（W形状为head_size*n_embd，不过在forward中会转置）\n",
    "        self.key = nn.Linear(n_embd, head_size, bias=False)\n",
    "        self.query = nn.Linear(n_embd, head_size, bias=False)\n",
    "        self.value = nn.Linear(n_embd, head_size, bias=False)\n",
    "        # 创建一个下三角矩阵，并将其注册为模型的一个缓冲区 （缓冲区不会被视为模型的参数，但会在模型保存和加载时一起保存和加载）\n",
    "        # 用于计算masked self-attention时作为mask\n",
    "        self.register_buffer('tril', torch.tril(torch.ones(block_size, block_size)))\n",
    "        self.dropout = nn.Dropout(dropout) #定义一个 Dropout 层，用于在训练过程中随机将一部分神经元的输出置零，以防止过拟合。\n",
    "    \n",
    "    # 定义前向传播函数\n",
    "    def forward(self, x):\n",
    "        # x的形状：batch_size, block_size, embed_dim\n",
    "        B,T,C = x.shape\n",
    "        # 输入x通过KQV映射矩阵映射到KQV空间\n",
    "        k = self.key(x)   # (B,T,C)\n",
    "        q = self.query(x) # (B,T,C)\n",
    "        v = self.value(x) # (B,T,C)\n",
    "        # 计算attention分数，1/sqrt(d_k) -> C**-0.5\n",
    "        wei = q @ k.transpose(-2,-1) * C**-0.5 # (B, T, C) @ (B, C, T) -> (B, T, T)\n",
    "        # 利用下三角矩阵对attention进行mask填充，保证当前的token只能看到它之前的token，看不到后面的\n",
    "        wei = wei.masked_fill(self.tril[:T, :T] == 0, float('-inf')) # (B, T, T)\n",
    "        # 对最后一个维度softmax归一化权重\n",
    "        wei = F.softmax(wei, dim=-1) # (B, T, T)\n",
    "        wei = self.dropout(wei)\n",
    "        # 得到的权重再和value相乘\n",
    "        out = wei @ v # (B, T, T) @ (B, T, C) -> (B, T, C)\n",
    "        return out"
   ]
  },
  {
   "cell_type": "markdown",
   "id": "cc7af551",
   "metadata": {},
   "source": [
    "将相同的输入x分别传递给多个独立的自注意力头，学习不同的QKV映射\n",
    "把不同注意力头的out在最后一个维度上拼接\n",
    "通过一个self.proj线性层把拼接后的结果的维度恢复到原始的嵌入维度。此过程学习如何最佳地组合来自不同头的注意力信息。\n",
    "最后dropout提高模型泛化能力"
   ]
  },
  {
   "cell_type": "code",
   "execution_count": null,
   "id": "a9df8fb6",
   "metadata": {},
   "outputs": [],
   "source": [
    "# 多头注意力\n",
    "# 实现多头自注意力机制，并行计算自注意力，然后将结果拼接起来\n",
    "class MultiHeadAttention(nn.Module):\n",
    "    \"\"\" multiple heads of self-attention in parallel \"\"\"\n",
    "    def __init__(self, num_heads, head_size):\n",
    "        super().__init__()\n",
    "        self.heads = nn.ModuleList([Head(head_size) for _ in range(num_heads)])\n",
    "        # 输出映射线性层\n",
    "        self.proj = nn.Linear(n_embd, n_embd)\n",
    "        self.dropout = nn.Dropout(dropout)\n",
    "    def forward(self, x):\n",
    "        # 对每个注意力头h进行计算，然后将结果在最后一个维度上拼接起来，得到out\n",
    "        out = torch.cat([h(x) for h in self.heads], dim=-1)\n",
    "        out = self.dropout(self.proj(out))\n",
    "        return out"
   ]
  },
  {
   "cell_type": "markdown",
   "id": "d970347f",
   "metadata": {},
   "source": [
    "### 前馈层实现"
   ]
  },
  {
   "cell_type": "markdown",
   "id": "a6bbe6db",
   "metadata": {},
   "source": [
    "前馈层FFN\n",
    "过了MHA之后，tokens只是互相查看了信息，但是还没思考从其他token学到了什么，所以需要通过前馈网络去思考学习信息。\n",
    "\n",
    "本质是两个线性层和一个ReLU激活函数，以及一个dropout层\n",
    "中间升维 embed_dim->4*embed_dim，然后降维回去\n",
    "```\n",
    "self.net = nn.Sequential(\n",
    "    nn.Linear(n_embd, 4 * n_embd),\n",
    "    nn.ReLU(),\n",
    "    nn.Linear(4 * n_embd, n_embd),\n",
    "    nn.Dropout(dropout),\n",
    ")\n",
    "```"
   ]
  },
  {
   "cell_type": "code",
   "execution_count": null,
   "id": "409bb4d3",
   "metadata": {},
   "outputs": [],
   "source": [
    "# 模型FeedFoward\n",
    "class FeedFoward(nn.Module):\n",
    "    \"\"\" a simple linear layer followed by a non-linearity \"\"\"\n",
    "    def __init__(self, n_embd):\n",
    "        super().__init__()\n",
    "        # 中间升维 embed_dim->4*embed_dim，然后降维回去\n",
    "        self.layer1 = nn.Linear(n_embd, 4 * n_embd)\n",
    "        self.relu = nn.ReLU()\n",
    "        self.layer2 = nn.Linear(4 * n_embd, n_embd)\n",
    "        self.dropout = nn.Dropout(dropout)\n",
    "    def forward(self, x):\n",
    "        # x = self.net(x)\n",
    "        x = self.layer1(x)\n",
    "        x = self.relu(x)\n",
    "        x = self.layer2(x)\n",
    "        x = self.dropout(x)\n",
    "        return x"
   ]
  },
  {
   "cell_type": "markdown",
   "id": "7414ca7d",
   "metadata": {},
   "source": [
    "### Transformer块实现"
   ]
  },
  {
   "cell_type": "markdown",
   "id": "be8db59f",
   "metadata": {},
   "source": [
    "实现一个Transformer Block基本块\n",
    "多头注意力+层归一化 => 前馈网络+层归一化"
   ]
  },
  {
   "cell_type": "code",
   "execution_count": null,
   "id": "2dd6800e",
   "metadata": {},
   "outputs": [],
   "source": [
    "# 模型Block定义\n",
    "# 包含layerNorm, multiheadattention, layerNorm, feedforward\n",
    "class Block(nn.Module):\n",
    "    \"\"\" Transformer block: communication followed by computation \"\"\"\n",
    "    def __init__(self, n_embd, n_head):\n",
    "        # n_embd: embedding dimension, n_head: the number of heads we'd like\n",
    "        super().__init__()\n",
    "        head_size = n_embd // n_head # 每一个头的size\n",
    "        self.sa = MultiHeadAttention(n_head, head_size)\n",
    "        self.ffwd = FeedFoward(n_embd)\n",
    "        self.ln1 = nn.LayerNorm(n_embd)\n",
    "        self.ln2 = nn.LayerNorm(n_embd)\n",
    "    # Transformer结构\n",
    "    # pre-norm->self-attention->残差链接->pre-norm->FFN->残差链接\n",
    "    def forward(self, x):\n",
    "        x = x + self.sa(self.ln1(x))\n",
    "        x = x + self.ffwd(self.ln2(x))\n",
    "        return x"
   ]
  },
  {
   "cell_type": "markdown",
   "id": "c4c54603",
   "metadata": {},
   "source": [
    "### 完整模型"
   ]
  },
  {
   "cell_type": "markdown",
   "id": "3c183006",
   "metadata": {},
   "source": [
    "1.生成embedding表和位置嵌入表，维度指定为n_embd\n",
    "2.随机批次的X输入在词嵌入表和位置嵌入表中获取嵌入，并相加得到x\n",
    "2.x通过n_layer（4）个Transformer Block堆叠处理得到y\n",
    "3.y通过线性层映射回词汇表大小的向量得到Y"
   ]
  },
  {
   "cell_type": "code",
   "execution_count": null,
   "id": "502b61ab",
   "metadata": {},
   "outputs": [],
   "source": [
    "# 定义一个二元语言模型BigramLanguageModel\n",
    "# 训练一个二元语言模型，并生成新的文本\n",
    "class BigramLanguageModel(nn.Module):\n",
    "    def __init__(self):\n",
    "        super().__init__()\n",
    "        # embedding表和位置嵌入表\n",
    "        self.token_embedding_table = nn.Embedding(vocab_size, n_embd)\n",
    "        self.position_embedding_table = nn.Embedding(block_size, n_embd)\n",
    "        # 堆叠多个Transformer Block，总共有n_layer个Transformer Block\n",
    "        self.blocks = nn.Sequential(*[Block(n_embd, n_head=n_head) for _ in range(n_layer)])\n",
    "        self.ln_f = nn.LayerNorm(n_embd) # 最后一个layerNorm\n",
    "        # 输出线性层，将嵌入向量映射到词汇表大小的向量\n",
    "        self.lm_head = nn.Linear(n_embd, vocab_size)\n",
    "    def forward(self, idx, targets=None):\n",
    "        # batch_size, block_size\n",
    "        B, T = idx.shape\n",
    "        # 首先，从词嵌入表和位置嵌入表中获取嵌入，将它们相加得到x\n",
    "        tok_emb = self.token_embedding_table(idx) # (B,T,C)\n",
    "        pos_emb = self.position_embedding_table(torch.arange(T, device=device)) # (T,C)\n",
    "        x = tok_emb + pos_emb # (B,T,C)\n",
    "        # 然后，x输入到Transformer Block中，得到输出x\n",
    "        x = self.blocks(x) # (B,T,C)\n",
    "        # 最后，将输出x输入到输出线性层中，得到logits\n",
    "        x = self.ln_f(x) # (B,T,C)\n",
    "        logits = self.lm_head(x) # (B,T,vocab_size)\n",
    "\n",
    "        if targets is None:\n",
    "            loss = None\n",
    "        else:\n",
    "            B, T, C = logits.shape\n",
    "            logits = logits.view(B*T, C)\n",
    "            targets = targets.view(B*T)\n",
    "            # 计算交叉熵损失\n",
    "            loss = F.cross_entropy(logits, targets)\n",
    "\n",
    "        return logits, loss\n",
    "    def generate(self, idx, max_new_tokens):\n",
    "        # 生成新的文本，从当前的索引idx开始，每次生成一个新的token，直到生成max_new_tokens个token为止\n",
    "        # idx is (B, T) array of indices in the current context\n",
    "        for _ in range(max_new_tokens):\n",
    "            # 将当前的索引裁剪到最后的block_size个token\n",
    "            idx_cond = idx[:, -block_size:]\n",
    "            # 获取预测的logits，只关注最后一个时间步\n",
    "            logits, loss = self(idx_cond)\n",
    "            logits = logits[:, -1, :] # becomes (B, C)\n",
    "            # 将logits应用softmax得到概率\n",
    "            probs = F.softmax(logits, dim=-1) # (B, C)\n",
    "            # 从分布中采样一个next token\n",
    "            idx_next = torch.multinomial(probs, num_samples=1) # (B, 1)\n",
    "            # 将采样的索引添加到当前的序列中\n",
    "            idx = torch.cat((idx, idx_next), dim=1) # (B, T+1)\n",
    "        return idx"
   ]
  },
  {
   "cell_type": "markdown",
   "id": "7ed7eb00",
   "metadata": {},
   "source": [
    "## 模型训练"
   ]
  },
  {
   "cell_type": "code",
   "execution_count": null,
   "id": "44e0997a",
   "metadata": {},
   "outputs": [
    {
     "name": "stdout",
     "output_type": "stream",
     "text": [
      "Before CUDA operation: 0.00 MB\n",
      "After CUDA operation: 0.00 MB\n",
      "0.209729 M parameters\n",
      "Parameter: token_embedding_table.weight, DataType: torch.float32\n",
      "Parameter: position_embedding_table.weight, DataType: torch.float32\n",
      "Parameter: blocks.0.sa.heads.0.key.weight, DataType: torch.float32\n",
      "Parameter: blocks.0.sa.heads.0.query.weight, DataType: torch.float32\n",
      "Parameter: blocks.0.sa.heads.0.value.weight, DataType: torch.float32\n",
      "Parameter: blocks.0.sa.heads.1.key.weight, DataType: torch.float32\n",
      "Parameter: blocks.0.sa.heads.1.query.weight, DataType: torch.float32\n",
      "Parameter: blocks.0.sa.heads.1.value.weight, DataType: torch.float32\n",
      "Parameter: blocks.0.sa.heads.2.key.weight, DataType: torch.float32\n",
      "Parameter: blocks.0.sa.heads.2.query.weight, DataType: torch.float32\n",
      "Parameter: blocks.0.sa.heads.2.value.weight, DataType: torch.float32\n",
      "Parameter: blocks.0.sa.heads.3.key.weight, DataType: torch.float32\n",
      "Parameter: blocks.0.sa.heads.3.query.weight, DataType: torch.float32\n",
      "Parameter: blocks.0.sa.heads.3.value.weight, DataType: torch.float32\n",
      "Parameter: blocks.0.sa.proj.weight, DataType: torch.float32\n",
      "Parameter: blocks.0.sa.proj.bias, DataType: torch.float32\n",
      "Parameter: blocks.0.ffwd.layer1.weight, DataType: torch.float32\n",
      "Parameter: blocks.0.ffwd.layer1.bias, DataType: torch.float32\n",
      "Parameter: blocks.0.ffwd.layer2.weight, DataType: torch.float32\n",
      "Parameter: blocks.0.ffwd.layer2.bias, DataType: torch.float32\n",
      "Parameter: blocks.0.ln1.weight, DataType: torch.float32\n",
      "Parameter: blocks.0.ln1.bias, DataType: torch.float32\n",
      "Parameter: blocks.0.ln2.weight, DataType: torch.float32\n",
      "Parameter: blocks.0.ln2.bias, DataType: torch.float32\n",
      "Parameter: blocks.1.sa.heads.0.key.weight, DataType: torch.float32\n",
      "Parameter: blocks.1.sa.heads.0.query.weight, DataType: torch.float32\n",
      "Parameter: blocks.1.sa.heads.0.value.weight, DataType: torch.float32\n",
      "Parameter: blocks.1.sa.heads.1.key.weight, DataType: torch.float32\n",
      "Parameter: blocks.1.sa.heads.1.query.weight, DataType: torch.float32\n",
      "Parameter: blocks.1.sa.heads.1.value.weight, DataType: torch.float32\n",
      "Parameter: blocks.1.sa.heads.2.key.weight, DataType: torch.float32\n",
      "Parameter: blocks.1.sa.heads.2.query.weight, DataType: torch.float32\n",
      "Parameter: blocks.1.sa.heads.2.value.weight, DataType: torch.float32\n",
      "Parameter: blocks.1.sa.heads.3.key.weight, DataType: torch.float32\n",
      "Parameter: blocks.1.sa.heads.3.query.weight, DataType: torch.float32\n",
      "Parameter: blocks.1.sa.heads.3.value.weight, DataType: torch.float32\n",
      "Parameter: blocks.1.sa.proj.weight, DataType: torch.float32\n",
      "Parameter: blocks.1.sa.proj.bias, DataType: torch.float32\n",
      "Parameter: blocks.1.ffwd.layer1.weight, DataType: torch.float32\n",
      "Parameter: blocks.1.ffwd.layer1.bias, DataType: torch.float32\n",
      "Parameter: blocks.1.ffwd.layer2.weight, DataType: torch.float32\n",
      "Parameter: blocks.1.ffwd.layer2.bias, DataType: torch.float32\n",
      "Parameter: blocks.1.ln1.weight, DataType: torch.float32\n",
      "Parameter: blocks.1.ln1.bias, DataType: torch.float32\n",
      "Parameter: blocks.1.ln2.weight, DataType: torch.float32\n",
      "Parameter: blocks.1.ln2.bias, DataType: torch.float32\n",
      "Parameter: blocks.2.sa.heads.0.key.weight, DataType: torch.float32\n",
      "Parameter: blocks.2.sa.heads.0.query.weight, DataType: torch.float32\n",
      "Parameter: blocks.2.sa.heads.0.value.weight, DataType: torch.float32\n",
      "Parameter: blocks.2.sa.heads.1.key.weight, DataType: torch.float32\n",
      "Parameter: blocks.2.sa.heads.1.query.weight, DataType: torch.float32\n",
      "Parameter: blocks.2.sa.heads.1.value.weight, DataType: torch.float32\n",
      "Parameter: blocks.2.sa.heads.2.key.weight, DataType: torch.float32\n",
      "Parameter: blocks.2.sa.heads.2.query.weight, DataType: torch.float32\n",
      "Parameter: blocks.2.sa.heads.2.value.weight, DataType: torch.float32\n",
      "Parameter: blocks.2.sa.heads.3.key.weight, DataType: torch.float32\n",
      "Parameter: blocks.2.sa.heads.3.query.weight, DataType: torch.float32\n",
      "Parameter: blocks.2.sa.heads.3.value.weight, DataType: torch.float32\n",
      "Parameter: blocks.2.sa.proj.weight, DataType: torch.float32\n",
      "Parameter: blocks.2.sa.proj.bias, DataType: torch.float32\n",
      "Parameter: blocks.2.ffwd.layer1.weight, DataType: torch.float32\n",
      "Parameter: blocks.2.ffwd.layer1.bias, DataType: torch.float32\n",
      "Parameter: blocks.2.ffwd.layer2.weight, DataType: torch.float32\n",
      "Parameter: blocks.2.ffwd.layer2.bias, DataType: torch.float32\n",
      "Parameter: blocks.2.ln1.weight, DataType: torch.float32\n",
      "Parameter: blocks.2.ln1.bias, DataType: torch.float32\n",
      "Parameter: blocks.2.ln2.weight, DataType: torch.float32\n",
      "Parameter: blocks.2.ln2.bias, DataType: torch.float32\n",
      "Parameter: blocks.3.sa.heads.0.key.weight, DataType: torch.float32\n",
      "Parameter: blocks.3.sa.heads.0.query.weight, DataType: torch.float32\n",
      "Parameter: blocks.3.sa.heads.0.value.weight, DataType: torch.float32\n",
      "Parameter: blocks.3.sa.heads.1.key.weight, DataType: torch.float32\n",
      "Parameter: blocks.3.sa.heads.1.query.weight, DataType: torch.float32\n",
      "Parameter: blocks.3.sa.heads.1.value.weight, DataType: torch.float32\n",
      "Parameter: blocks.3.sa.heads.2.key.weight, DataType: torch.float32\n",
      "Parameter: blocks.3.sa.heads.2.query.weight, DataType: torch.float32\n",
      "Parameter: blocks.3.sa.heads.2.value.weight, DataType: torch.float32\n",
      "Parameter: blocks.3.sa.heads.3.key.weight, DataType: torch.float32\n",
      "Parameter: blocks.3.sa.heads.3.query.weight, DataType: torch.float32\n",
      "Parameter: blocks.3.sa.heads.3.value.weight, DataType: torch.float32\n",
      "Parameter: blocks.3.sa.proj.weight, DataType: torch.float32\n",
      "Parameter: blocks.3.sa.proj.bias, DataType: torch.float32\n",
      "Parameter: blocks.3.ffwd.layer1.weight, DataType: torch.float32\n",
      "Parameter: blocks.3.ffwd.layer1.bias, DataType: torch.float32\n",
      "Parameter: blocks.3.ffwd.layer2.weight, DataType: torch.float32\n",
      "Parameter: blocks.3.ffwd.layer2.bias, DataType: torch.float32\n",
      "Parameter: blocks.3.ln1.weight, DataType: torch.float32\n",
      "Parameter: blocks.3.ln1.bias, DataType: torch.float32\n",
      "Parameter: blocks.3.ln2.weight, DataType: torch.float32\n",
      "Parameter: blocks.3.ln2.bias, DataType: torch.float32\n",
      "Parameter: ln_f.weight, DataType: torch.float32\n",
      "Parameter: ln_f.bias, DataType: torch.float32\n",
      "Parameter: lm_head.weight, DataType: torch.float32\n",
      "Parameter: lm_head.bias, DataType: torch.float32\n"
     ]
    }
   ],
   "source": [
    "# 实例化\n",
    "print(f\"Before CUDA operation: {torch.cuda.memory_allocated() / 1024**2:.2f} MB\")\n",
    "torch.zeros(1, device='cuda')  # 触发 CUDA 初始化\n",
    "print(f\"After CUDA operation: {torch.cuda.memory_allocated() / 1024**2:.2f} MB\")\n",
    "model = BigramLanguageModel()\n",
    "m = model.to(device) # 移动到GPU上\n",
    "# 打印模型参数数量\n",
    "print(sum(p.numel() for p in m.parameters())/1e6, 'M parameters')\n",
    "# 检查模型参数的数据类型\n",
    "for name, param in model.named_parameters():\n",
    "    print(f\"Parameter: {name}, DataType: {param.dtype}\")"
   ]
  },
  {
   "cell_type": "code",
   "execution_count": null,
   "id": "f3e13080",
   "metadata": {},
   "outputs": [],
   "source": [
    "# 训练模型\n",
    "# 创建一个AdamW优化器，学习率为learning_rate，将模型的参数传递给优化器\n",
    "optimizer = torch.optim.AdamW(model.parameters(), lr=learning_rate)\n",
    "# 初始化列表来存储损失值\n",
    "train_losses = []\n",
    "val_losses = []\n",
    "for iter in range(max_iters):\n",
    "    # 每过100次迭代，就评估模型的损失，打印训练损失和验证损失\n",
    "    if iter % eval_interval == 0 or iter == max_iters - 1:\n",
    "        losses = estimate_loss()\n",
    "        print(f\"step {iter}: train loss {losses['train']:.4f}, val loss {losses['val']:.4f}\")\n",
    "        # 将损失值添加到列表中\n",
    "        train_losses.append(losses['train'])\n",
    "        val_losses.append(losses['val'])\n",
    "    # 采样一个batch的数据\n",
    "    xb, yb = get_batch('train')\n",
    "    # 计算损失\n",
    "    logits, loss = model(xb, yb)\n",
    "    # 将梯度清零，PyTorch默认会累积梯度，所以需要手动清零\n",
    "    optimizer.zero_grad(set_to_none=True)\n",
    "    # 计算梯度\n",
    "    loss.backward()\n",
    "    # 更新优化器的参数\n",
    "    optimizer.step()"
   ]
  },
  {
   "cell_type": "code",
   "execution_count": 14,
   "id": "a4014029",
   "metadata": {},
   "outputs": [
    {
     "data": {
      "image/png": "[encoded data removed]",
      "text/plain": [
       "<Figure size 1000x500 with 1 Axes>"
      ]
     },
     "metadata": {},
     "output_type": "display_data"
    }
   ],
   "source": [
    "# 绘制损失曲线图\n",
    "plt.figure(figsize=(10, 5))\n",
    "plt.plot(train_losses, label='Train Loss')\n",
    "plt.plot(val_losses, label='Validation Loss')\n",
    "plt.xlabel('Iteration')\n",
    "plt.ylabel('Loss')\n",
    "plt.title('Training and Validation Loss')\n",
    "plt.legend()\n",
    "# 保存图片并显示\n",
    "plt.savefig('loss_plot.png')\n",
    "plt.show()"
   ]
  },
  {
   "cell_type": "code",
   "execution_count": null,
   "id": "f67d279f",
   "metadata": {},
   "outputs": [],
   "source": [
    "# 生成新的文本\n",
    "context = torch.zeros((1, 1), dtype=torch.long, device=device)\n",
    "print(decode(m.generate(context, max_new_tokens=2000)[0].tolist()))"
   ]
  }
 ],
 "metadata": {
  "kernelspec": {
   "display_name": "nano",
   "language": "python",
   "name": "python3"
  },
  "language_info": {
   "codemirror_mode": {
    "name": "ipython",
    "version": 3
   },
   "file_extension": ".py",
   "mimetype": "text/x-python",
   "name": "python",
   "nbconvert_exporter": "python",
   "pygments_lexer": "ipython3",
   "version": "3.10.16"
  }
 },
 "nbformat": 4,
 "nbformat_minor": 5
}
